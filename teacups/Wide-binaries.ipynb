{
 "cells": [
  {
   "cell_type": "markdown",
   "metadata": {},
   "source": [
    "# Explore the comoving pair data from Semyeong Oh"
   ]
  },
  {
   "cell_type": "markdown",
   "metadata": {},
   "source": [
    "First, load Semyeong's catalogues of low-confidence comoving pairs."
   ]
  },
  {
   "cell_type": "code",
   "execution_count": 1,
   "metadata": {
    "collapsed": true
   },
   "outputs": [],
   "source": [
    "import numpy as np\n",
    "import pandas as pd\n",
    "import matplotlib.pyplot as pl\n",
    "%matplotlib inline\n",
    "import pyfits\n",
    "from astropy.table import Table"
   ]
  },
  {
   "cell_type": "code",
   "execution_count": 2,
   "metadata": {
    "collapsed": false
   },
   "outputs": [],
   "source": [
    "star1 = pd.read_csv(\"star1_kic_1.csv\")\n",
    "star2 = pd.read_csv(\"star2_kic_1.csv\")"
   ]
  },
  {
   "cell_type": "markdown",
   "metadata": {},
   "source": [
    "Load Semyeong's original file:"
   ]
  },
  {
   "cell_type": "code",
   "execution_count": 4,
   "metadata": {
    "collapsed": true
   },
   "outputs": [],
   "source": [
    "hdulist = pyfits.open(\"pairindices_cp1.fits\")\n",
    "t = hdulist[1].data\n",
    "m1 = t[\"star1\"]  # indices in the stacked_tgas.fits file\n",
    "m2 = t[\"star2\"]"
   ]
  },
  {
   "cell_type": "markdown",
   "metadata": {},
   "source": [
    "Check that these catalogues match up..."
   ]
  },
  {
   "cell_type": "code",
   "execution_count": 5,
   "metadata": {
    "collapsed": false
   },
   "outputs": [],
   "source": [
    "table = Table.read('stacked_tgas.fits')\n",
    "stacked_tgas_df = table.to_pandas()\n",
    "star1_df = stacked_tgas_df.iloc[m1]\n",
    "star2_df = stacked_tgas_df.iloc[m2]"
   ]
  },
  {
   "cell_type": "markdown",
   "metadata": {},
   "source": [
    "Load Kepler-TGAS cross-matched table"
   ]
  },
  {
   "cell_type": "code",
   "execution_count": 6,
   "metadata": {
    "collapsed": false
   },
   "outputs": [],
   "source": [
    "kplr_tgas = pd.read_csv(\"kic_tgas_mod.csv\")"
   ]
  },
  {
   "cell_type": "code",
   "execution_count": 7,
   "metadata": {
    "collapsed": true
   },
   "outputs": [],
   "source": [
    "m_tgas = star1_df.source_id.isin(kplr_tgas.source_id).values * \\\n",
    "        star2_df.source_id.isin(kplr_tgas.source_id).values\n",
    "star1_tgas = star1_df.iloc[np.where(m_tgas)[0]]\n",
    "star2_tgas = star2_df.iloc[np.where(m_tgas)[0]]"
   ]
  },
  {
   "cell_type": "code",
   "execution_count": 8,
   "metadata": {
    "collapsed": false
   },
   "outputs": [
    {
     "name": "stdout",
     "output_type": "stream",
     "text": [
      "2049135390918975360 2076482237961592960\n"
     ]
    }
   ],
   "source": [
    "print(star1_tgas.source_id.values[0], star2_tgas.source_id.values[0])"
   ]
  },
  {
   "cell_type": "markdown",
   "metadata": {},
   "source": [
    "Check these match up in Semyeong's original file."
   ]
  },
  {
   "cell_type": "code",
   "execution_count": 9,
   "metadata": {
    "collapsed": false
   },
   "outputs": [
    {
     "name": "stdout",
     "output_type": "stream",
     "text": [
      "[2049135390918975360 2049135390918975360]\n",
      "[2076482237961592960 2076482237961592960 2076482237961592960\n",
      " 2076482237961592960]\n"
     ]
    }
   ],
   "source": [
    "print(star1_df.source_id.values[star1_df.source_id.values == star1_tgas.source_id.values[0]])\n",
    "print(star2_df.source_id.values[star2_df.source_id.values == star2_tgas.source_id.values[0]])"
   ]
  },
  {
   "cell_type": "markdown",
   "metadata": {},
   "source": [
    "This looks right. The reason they are repeated is because these stars are comoving with more than one other star. So star1_kic_1.csv and star2_kic_1.csv are good files to use."
   ]
  },
  {
   "cell_type": "markdown",
   "metadata": {},
   "source": [
    "# Plotting rotation periods for the pairs."
   ]
  },
  {
   "cell_type": "markdown",
   "metadata": {},
   "source": [
    "Take the first pair in the set and look at their rotation periods."
   ]
  },
  {
   "cell_type": "code",
   "execution_count": 10,
   "metadata": {
    "collapsed": true
   },
   "outputs": [],
   "source": [
    "import rotation as rot"
   ]
  },
  {
   "cell_type": "code",
   "execution_count": 11,
   "metadata": {
    "collapsed": false
   },
   "outputs": [
    {
     "name": "stdout",
     "output_type": "stream",
     "text": [
      "3459226 4935189\n"
     ]
    }
   ],
   "source": [
    "kepid1, kepid2 = star1.kepid.values[0], star2.kepid.values[0]\n",
    "print(kepid1, kepid2)"
   ]
  },
  {
   "cell_type": "code",
   "execution_count": 12,
   "metadata": {
    "collapsed": false
   },
   "outputs": [
    {
     "name": "stdout",
     "output_type": "stream",
     "text": [
      "Loading light curve...\n",
      "Loading light curve...\n"
     ]
    }
   ],
   "source": [
    "s1 = rot.prot(kepid1)\n",
    "s2 = rot.prot(kepid2)"
   ]
  },
  {
   "cell_type": "code",
   "execution_count": 13,
   "metadata": {
    "collapsed": false
   },
   "outputs": [
    {
     "name": "stdout",
     "output_type": "stream",
     "text": [
      "Calculating periodogram\n",
      "(16.700000000000003, 5.4065775103851105e-09)\n"
     ]
    }
   ],
   "source": [
    "print(s1.pgram_ps())"
   ]
  },
  {
   "cell_type": "code",
   "execution_count": 14,
   "metadata": {
    "collapsed": false
   },
   "outputs": [
    {
     "data": {
      "text/plain": [
       "<matplotlib.lines.Line2D at 0x10d6fb9e8>"
      ]
     },
     "execution_count": 14,
     "metadata": {},
     "output_type": "execute_result"
    },
    {
     "data": {
      "image/png": "[encoded data removed]",
      "text/plain": [
       "<matplotlib.figure.Figure at 0x10d6fb1d0>"
      ]
     },
     "metadata": {},
     "output_type": "display_data"
    }
   ],
   "source": [
    "pl.plot(s1.ps, s1.pgram)\n",
    "pl.axvline(s1.pgram_period, color=\"orange\")"
   ]
  },
  {
   "cell_type": "code",
   "execution_count": 15,
   "metadata": {
    "collapsed": false
   },
   "outputs": [
    {
     "name": "stdout",
     "output_type": "stream",
     "text": [
      "Calculating periodogram\n",
      "(26.200000000000003, 3.951025835962456e-05)\n"
     ]
    },
    {
     "data": {
      "text/plain": [
       "<matplotlib.lines.Line2D at 0x1090c66d8>"
      ]
     },
     "execution_count": 15,
     "metadata": {},
     "output_type": "execute_result"
    },
    {
     "data": {
      "image/png": "[encoded data removed]",
      "text/plain": [
       "<matplotlib.figure.Figure at 0x10d674470>"
      ]
     },
     "metadata": {},
     "output_type": "display_data"
    }
   ],
   "source": [
    "print(s2.pgram_ps())\n",
    "pl.plot(s2.ps, s2.pgram)\n",
    "pl.axvline(s2.pgram_period, color=\"orange\")"
   ]
  },
  {
   "cell_type": "markdown",
   "metadata": {},
   "source": [
    "Calculate the stars' ages from their rotation periods. First calculate their B-V colours."
   ]
  },
  {
   "cell_type": "code",
   "execution_count": 16,
   "metadata": {
    "collapsed": true
   },
   "outputs": [],
   "source": [
    "import teff_bv as tbv\n",
    "bv1 = tbv.teff2bv(star1.teff.values, star1.logg.values, star1.feh.values)\n",
    "bv2 = tbv.teff2bv(star2.teff.values, star2.logg.values, star2.feh.values)"
   ]
  },
  {
   "cell_type": "markdown",
   "metadata": {},
   "source": [
    "Then calculate their ages using simple gyrochronology."
   ]
  },
  {
   "cell_type": "code",
   "execution_count": 17,
   "metadata": {
    "collapsed": true
   },
   "outputs": [],
   "source": [
    "from make_gyro_plots import calculate_gyrochronal_ages as gyro"
   ]
  },
  {
   "cell_type": "code",
   "execution_count": 18,
   "metadata": {
    "collapsed": false
   },
   "outputs": [
    {
     "name": "stdout",
     "output_type": "stream",
     "text": [
      "0.280574815242 0.504405578756\n",
      "nan 10.3489013224\n"
     ]
    },
    {
     "name": "stderr",
     "output_type": "stream",
     "text": [
      "/Users/ruthangus/projects/teacups/teacups/make_gyro_plots.py:34: RuntimeWarning: invalid value encountered in double_scalars\n",
      "  return (period / (a*(bv - c)**b))**(1./n) * 1e-3\n"
     ]
    }
   ],
   "source": [
    "c = .45\n",
    "par = [.4, .31, c, .55]\n",
    "age1 = gyro(par, s1.pgram_period, bv1[0])\n",
    "age2 = gyro(par, s2.pgram_period, bv2[0])\n",
    "print(bv1[0], bv2[0])\n",
    "print(age1, age2)"
   ]
  },
  {
   "cell_type": "markdown",
   "metadata": {},
   "source": [
    "And their van Saders ages..."
   ]
  },
  {
   "cell_type": "code",
   "execution_count": 27,
   "metadata": {
    "collapsed": false
   },
   "outputs": [
    {
     "name": "stdout",
     "output_type": "stream",
     "text": [
      "teff =  7360 period =  10.1 age =  1.01341228\n",
      "teff =  6256 period =  26.2 age =  3.9614204\n"
     ]
    }
   ],
   "source": [
    "from vansaders_age import age\n",
    "print(\"teff = \", star1.teff.values[0], \"period = \", s1.pgram_period, \"age = \", \n",
    "      age([star1.teff.values[0], s1.pgram_period]))\n",
    "print(\"teff = \", star2.teff.values[0], \"period = \", s2.pgram_period, \"age = \", \n",
    "      age([star2.teff.values[0], s2.pgram_period]))"
   ]
  },
  {
   "cell_type": "markdown",
   "metadata": {},
   "source": [
    "That is *way* better!"
   ]
  },
  {
   "cell_type": "markdown",
   "metadata": {},
   "source": [
    "Okay that first star is too massive for gyrochronology, let's try the second pair."
   ]
  },
  {
   "cell_type": "code",
   "execution_count": 30,
   "metadata": {
    "collapsed": false
   },
   "outputs": [
    {
     "name": "stdout",
     "output_type": "stream",
     "text": [
      "Loading light curve...\n",
      "Loading light curve...\n",
      "Calculating periodogram\n",
      "Calculating periodogram\n"
     ]
    },
    {
     "data": {
      "text/plain": [
       "(26.200000000000003, 3.951025835962456e-05)"
      ]
     },
     "execution_count": 30,
     "metadata": {},
     "output_type": "execute_result"
    }
   ],
   "source": [
    "i = 1\n",
    "s1 = rot.prot(star1.kepid.values[i])\n",
    "s2 = rot.prot(star2.kepid.values[i])\n",
    "s1.pgram_ps()\n",
    "s2.pgram_ps()"
   ]
  },
  {
   "cell_type": "code",
   "execution_count": 31,
   "metadata": {
    "collapsed": false
   },
   "outputs": [
    {
     "name": "stdout",
     "output_type": "stream",
     "text": [
      "2.54902971 3.9614204\n"
     ]
    }
   ],
   "source": [
    "age1 = age([star1.teff.values[i], s1.pgram_period])\n",
    "age2 = age([star2.teff.values[i], s2.pgram_period])\n",
    "print(age1, age2)"
   ]
  },
  {
   "cell_type": "markdown",
   "metadata": {},
   "source": [
    "These aren't bad... Let's write a function and check a few more..."
   ]
  },
  {
   "cell_type": "code",
   "execution_count": 32,
   "metadata": {
    "collapsed": true
   },
   "outputs": [],
   "source": [
    "def pair_ages(i):\n",
    "    s1 = rot.prot(star1.kepid.values[i])\n",
    "    s2 = rot.prot(star2.kepid.values[i])\n",
    "    s1.pgram_ps()\n",
    "    s2.pgram_ps()\n",
    "    age1 = age([star1.teff.values[i], s1.pgram_period])\n",
    "    age2 = age([star2.teff.values[i], s2.pgram_period])\n",
    "    return age1, age2"
   ]
  },
  {
   "cell_type": "code",
   "execution_count": 33,
   "metadata": {
    "collapsed": false
   },
   "outputs": [
    {
     "name": "stdout",
     "output_type": "stream",
     "text": [
      "Loading light curve...\n",
      "Loading light curve...\n",
      "Calculating periodogram\n",
      "Calculating periodogram\n",
      "ages =  (2.5490297100000001, 2.6615117599999998) Gyr\n",
      "Loading light curve...\n",
      "Loading light curve...\n",
      "Calculating periodogram\n",
      "Calculating periodogram\n",
      "ages =  (0.99116347999999999, 1.23689973) Gyr\n"
     ]
    }
   ],
   "source": [
    "print(\"ages = \", pair_ages(2), \"Gyr\")\n",
    "print(\"ages = \", pair_ages(3), \"Gyr\")"
   ]
  },
  {
   "cell_type": "markdown",
   "metadata": {},
   "source": [
    "# Get all rotation periods"
   ]
  },
  {
   "cell_type": "code",
   "execution_count": 4,
   "metadata": {
    "collapsed": false
   },
   "outputs": [
    {
     "name": "stdout",
     "output_type": "stream",
     "text": [
      "0 of 1407\n",
      "Loading light curve...\n",
      "Loading light curve...\n",
      "Calculating periodogram\n",
      "1.07922403879\n",
      "Calculating periodogram\n",
      "3.60964738446\n",
      "1 of 1407\n",
      "Loading light curve...\n",
      "Loading light curve...\n",
      "Calculating periodogram\n",
      "10.079467315\n",
      "Loading pre-exisiting periodogram\n"
     ]
    },
    {
     "ename": "UnboundLocalError",
     "evalue": "local variable 'peaks' referenced before assignment",
     "output_type": "error",
     "traceback": [
      "\u001b[0;31m---------------------------------------------------------------------------\u001b[0m",
      "\u001b[0;31mUnboundLocalError\u001b[0m                         Traceback (most recent call last)",
      "\u001b[0;32m<ipython-input-4-6a4653020c10>\u001b[0m in \u001b[0;36m<module>\u001b[0;34m()\u001b[0m\n\u001b[1;32m     10\u001b[0m     \u001b[0;31m# Calculate the filtered periodograms.\u001b[0m\u001b[0;34m\u001b[0m\u001b[0;34m\u001b[0m\u001b[0m\n\u001b[1;32m     11\u001b[0m     \u001b[0ms1\u001b[0m\u001b[0;34m.\u001b[0m\u001b[0mpgram_ps\u001b[0m\u001b[0;34m(\u001b[0m\u001b[0mplot\u001b[0m\u001b[0;34m=\u001b[0m\u001b[0;32mTrue\u001b[0m\u001b[0;34m)\u001b[0m\u001b[0;34m\u001b[0m\u001b[0m\n\u001b[0;32m---> 12\u001b[0;31m     \u001b[0ms2\u001b[0m\u001b[0;34m.\u001b[0m\u001b[0mpgram_ps\u001b[0m\u001b[0;34m(\u001b[0m\u001b[0mplot\u001b[0m\u001b[0;34m=\u001b[0m\u001b[0;32mTrue\u001b[0m\u001b[0;34m)\u001b[0m\u001b[0;34m\u001b[0m\u001b[0m\n\u001b[0m\u001b[1;32m     13\u001b[0m \u001b[0;34m\u001b[0m\u001b[0m\n\u001b[1;32m     14\u001b[0m     \u001b[0;31m# Get the periods\u001b[0m\u001b[0;34m\u001b[0m\u001b[0;34m\u001b[0m\u001b[0m\n",
      "\u001b[0;32m/Users/ruthangus/projects/teacups/teacups/rotation.py\u001b[0m in \u001b[0;36mpgram_ps\u001b[0;34m(self, filter_period, plot, clobber)\u001b[0m\n\u001b[1;32m    129\u001b[0m                 \u001b[0mpresults\u001b[0m\u001b[0;34m.\u001b[0m\u001b[0mto_csv\u001b[0m\u001b[0;34m(\u001b[0m\u001b[0;34m\"{}.csv\"\u001b[0m\u001b[0;34m.\u001b[0m\u001b[0mformat\u001b[0m\u001b[0;34m(\u001b[0m\u001b[0mpgram_fname\u001b[0m\u001b[0;34m)\u001b[0m\u001b[0;34m)\u001b[0m\u001b[0;34m\u001b[0m\u001b[0m\n\u001b[1;32m    130\u001b[0m \u001b[0;34m\u001b[0m\u001b[0m\n\u001b[0;32m--> 131\u001b[0;31m         \u001b[0mpgram_period\u001b[0m \u001b[0;34m=\u001b[0m \u001b[0mps\u001b[0m\u001b[0;34m[\u001b[0m\u001b[0mpgram\u001b[0m \u001b[0;34m==\u001b[0m \u001b[0mmax\u001b[0m\u001b[0;34m(\u001b[0m\u001b[0mpgram\u001b[0m\u001b[0;34m[\u001b[0m\u001b[0mpeaks\u001b[0m\u001b[0;34m]\u001b[0m\u001b[0;34m)\u001b[0m\u001b[0;34m]\u001b[0m\u001b[0;34m[\u001b[0m\u001b[0;36m0\u001b[0m\u001b[0;34m]\u001b[0m\u001b[0;34m\u001b[0m\u001b[0m\n\u001b[0m\u001b[1;32m    132\u001b[0m         \u001b[0;32mif\u001b[0m \u001b[0mplot\u001b[0m\u001b[0;34m:\u001b[0m\u001b[0;34m\u001b[0m\u001b[0m\n\u001b[1;32m    133\u001b[0m             \u001b[0mpl\u001b[0m\u001b[0;34m.\u001b[0m\u001b[0mclf\u001b[0m\u001b[0;34m(\u001b[0m\u001b[0;34m)\u001b[0m\u001b[0;34m\u001b[0m\u001b[0m\n",
      "\u001b[0;31mUnboundLocalError\u001b[0m: local variable 'peaks' referenced before assignment"
     ]
    },
    {
     "data": {
      "image/png": "[encoded data removed]",
      "text/plain": [
       "<matplotlib.figure.Figure at 0x108a31a90>"
      ]
     },
     "metadata": {},
     "output_type": "display_data"
    }
   ],
   "source": [
    "import rotation as rot\n",
    "p1s, p2s = [], []\n",
    "for i, kepid1 in enumerate(star1.kepid.values[:10]):\n",
    "    print(i, \"of\", len(star1.kepid.values))\n",
    "    \n",
    "    # Set up the rotation objects\n",
    "    s1 = rot.prot(star1.kepid.values[i])\n",
    "    s2 = rot.prot(star2.kepid.values[i])\n",
    "    \n",
    "    # Calculate the filtered periodograms.\n",
    "    s1.pgram_ps(plot=True)\n",
    "    s2.pgram_ps(plot=True)\n",
    "    \n",
    "    # Get the periods\n",
    "    p1 = s1.pgram_period\n",
    "    p2 = s2.pgram_period\n",
    "    \n",
    "    # Save the periods.\n",
    "    p1s.append(p1)\n",
    "    p2s.append(p2)"
   ]
  },
  {
   "cell_type": "code",
   "execution_count": 32,
   "metadata": {
    "collapsed": false
   },
   "outputs": [
    {
     "data": {
      "text/plain": [
       "(0, 10)"
      ]
     },
     "execution_count": 32,
     "metadata": {},
     "output_type": "execute_result"
    },
    {
     "data": {
      "image/png": "[encoded data removed]",
      "text/plain": [
       "<matplotlib.figure.Figure at 0x109391c50>"
      ]
     },
     "metadata": {},
     "output_type": "display_data"
    }
   ],
   "source": [
    "from astropy.stats import LombScargle\n",
    "pl.plot(s1.x-s1.x[0], s1.y, \"k.\")\n",
    "pl.xlim(0, 10)"
   ]
  },
  {
   "cell_type": "code",
   "execution_count": 23,
   "metadata": {
    "collapsed": false
   },
   "outputs": [],
   "source": [
    "freq = np.linspace(1./100, 1./.1, 100000)\n",
    "pgram = LombScargle(s1.x, s1.y, s1.yerr).power(freq)"
   ]
  },
  {
   "cell_type": "code",
   "execution_count": 25,
   "metadata": {
    "collapsed": false
   },
   "outputs": [
    {
     "data": {
      "text/plain": [
       "(0, 10)"
      ]
     },
     "execution_count": 25,
     "metadata": {},
     "output_type": "execute_result"
    },
    {
     "data": {
      "image/png": "[encoded data removed]",
      "text/plain": [
       "<matplotlib.figure.Figure at 0x1043b74e0>"
      ]
     },
     "metadata": {},
     "output_type": "display_data"
    }
   ],
   "source": [
    "pl.plot(1./freq, pgram)\n",
    "pl.xlim(0, 10)"
   ]
  },
  {
   "cell_type": "markdown",
   "metadata": {},
   "source": [
    "What I need to do next is:\n",
    "1. Get GP periods running on BBQ.\n",
    "2. Get RVs for MDM targets.\n",
    "3. Identify the true pairs from the list in MDM.\n",
    "4. Look at the pairs identified by Janes.\n",
    "5. Maybe try to repeat Janes.\n",
    "6. Look at stars in the K2 fields too.\n",
    "7. Could always repeat the Janes paper in a better way.\n",
    "8. Look at the groups, not just the pairs."
   ]
  },
  {
   "cell_type": "code",
   "execution_count": null,
   "metadata": {
    "collapsed": true
   },
   "outputs": [],
   "source": []
  }
 ],
 "metadata": {
  "anaconda-cloud": {},
  "kernelspec": {
   "display_name": "Python [default]",
   "language": "python",
   "name": "python3"
  },
  "language_info": {
   "codemirror_mode": {
    "name": "ipython",
    "version": 3
   },
   "file_extension": ".py",
   "mimetype": "text/x-python",
   "name": "python",
   "nbconvert_exporter": "python",
   "pygments_lexer": "ipython3",
   "version": "3.5.2"
  }
 },
 "nbformat": 4,
 "nbformat_minor": 1
}
